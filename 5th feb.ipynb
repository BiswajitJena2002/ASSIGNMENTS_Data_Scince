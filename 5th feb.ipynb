{
 "cells": [
  {
   "cell_type": "markdown",
   "id": "32bdf88b",
   "metadata": {},
   "source": [
    "# 1."
   ]
  },
  {
   "cell_type": "markdown",
   "id": "361975bf",
   "metadata": {},
   "source": [
    "class in OOPs is a blueprint or prototype which defines veriable and methodes.\n",
    "Object is the Real world entity which has its own existance."
   ]
  },
  {
   "cell_type": "code",
   "execution_count": 19,
   "id": "b954b221",
   "metadata": {},
   "outputs": [],
   "source": [
    "class myclass:\n",
    "    def __init__(self,mobile,brand):\n",
    "        self.mobile1=mobile\n",
    "        self.brand1=brand\n",
    "    def method1(self):\n",
    "        return self.brand1,self.mobile1"
   ]
  },
  {
   "cell_type": "code",
   "execution_count": 20,
   "id": "cbb788e3",
   "metadata": {},
   "outputs": [],
   "source": [
    "new_mobile=myclass(\"X1 series\",\"vivo\")"
   ]
  },
  {
   "cell_type": "code",
   "execution_count": 21,
   "id": "d61f5897",
   "metadata": {},
   "outputs": [
    {
     "data": {
      "text/plain": [
       "('vivo', 'X1 series')"
      ]
     },
     "execution_count": 21,
     "metadata": {},
     "output_type": "execute_result"
    }
   ],
   "source": [
    "new_mobile.method1()"
   ]
  },
  {
   "cell_type": "markdown",
   "id": "45cca811",
   "metadata": {},
   "source": [
    "# 2."
   ]
  },
  {
   "cell_type": "markdown",
   "id": "94fe1b64",
   "metadata": {},
   "source": [
    "Name of 4 pillers of OOPs(Inheritance, Polymorphism, Encapsulation and Abstraction)"
   ]
  },
  {
   "cell_type": "markdown",
   "id": "0451cc38",
   "metadata": {},
   "source": [
    "# 3."
   ]
  },
  {
   "cell_type": "markdown",
   "id": "2b652d9e",
   "metadata": {},
   "source": [
    "init is short for initialization. It is a constructor which gets called when you make an instance of the class and it is not necessary"
   ]
  },
  {
   "cell_type": "code",
   "execution_count": 22,
   "id": "6925b94f",
   "metadata": {},
   "outputs": [],
   "source": [
    "class myclass:\n",
    "    def __init__(self,mobile,brand):\n",
    "        self.mobile1=mobile\n",
    "        self.brand1=brand\n",
    "    def method1(self):\n",
    "        return self.brand1,self.mobile1"
   ]
  },
  {
   "cell_type": "code",
   "execution_count": 23,
   "id": "4fd3b013",
   "metadata": {},
   "outputs": [],
   "source": [
    "new_mobile=myclass(\"iPhone14\",\"apple\")"
   ]
  },
  {
   "cell_type": "code",
   "execution_count": 24,
   "id": "8dd45ae2",
   "metadata": {},
   "outputs": [
    {
     "data": {
      "text/plain": [
       "('apple', 'iPhone14')"
      ]
     },
     "execution_count": 24,
     "metadata": {},
     "output_type": "execute_result"
    }
   ],
   "source": [
    "new_mobile.method1()"
   ]
  },
  {
   "cell_type": "markdown",
   "id": "9a0fa5cf",
   "metadata": {},
   "source": [
    "# 4."
   ]
  },
  {
   "cell_type": "markdown",
   "id": "8dbdcb4c",
   "metadata": {},
   "source": [
    "self represents the instance of the class. By using the “self” we can access the attributes and methods of the class in python. It binds the attributes with the given arguments"
   ]
  },
  {
   "cell_type": "markdown",
   "id": "54380236",
   "metadata": {},
   "source": [
    "# 5."
   ]
  },
  {
   "cell_type": "markdown",
   "id": "2a115822",
   "metadata": {},
   "source": [
    "Inheritance allows us to define a class that inherits all the methods and properties from another class.\n",
    "parent class--> from this class properties are inherited\n",
    "child class---> this class inherits properties from parent class"
   ]
  },
  {
   "cell_type": "markdown",
   "id": "6596909e",
   "metadata": {},
   "source": [
    "single inheritance"
   ]
  },
  {
   "cell_type": "code",
   "execution_count": 2,
   "id": "812e0d1e",
   "metadata": {},
   "outputs": [
    {
     "name": "stdout",
     "output_type": "stream",
     "text": [
      "Biswajit jena\n",
      " BISWAJIT JENA \n"
     ]
    }
   ],
   "source": [
    "\n",
    "class Parent:\n",
    "     def fun_1(self):\n",
    "          print(\"Biswajit jena\")\n",
    "class Child(Parent):\n",
    "     def fun_2(self):\n",
    "          print(\" BISWAJIT JENA \")\n",
    "ob = Child()\n",
    "ob.fun_1()\n",
    "ob.fun_2()"
   ]
  },
  {
   "cell_type": "markdown",
   "id": "23769a56",
   "metadata": {},
   "source": [
    "multiple inheritance"
   ]
  },
  {
   "cell_type": "code",
   "execution_count": 5,
   "id": "b2e5ffd2",
   "metadata": {},
   "outputs": [
    {
     "name": "stdout",
     "output_type": "stream",
     "text": [
      "1st inherit\n",
      "2nd inherit\n",
      "3rd inherit\n"
     ]
    }
   ],
   "source": [
    "class parent1:\n",
    "    def fun_1(self):\n",
    "        print(\"1st inherit\")\n",
    "class parent2:\n",
    "    def fun_2(self):\n",
    "        print(\"2nd inherit\")\n",
    "class child_2(parent1,parent2):\n",
    "    def fun_3(self):\n",
    "        print(\"3rd inherit\")\n",
    "obj=child_2()\n",
    "obj.fun_1()\n",
    "obj.fun_2()\n",
    "obj.fun_3()\n",
    "    "
   ]
  },
  {
   "cell_type": "markdown",
   "id": "2e3b02b8",
   "metadata": {},
   "source": [
    "multilavel inheritance"
   ]
  },
  {
   "cell_type": "code",
   "execution_count": 15,
   "id": "3877e1ed",
   "metadata": {},
   "outputs": [
    {
     "name": "stdout",
     "output_type": "stream",
     "text": [
      "Inside Vehicle class\n",
      "Inside Car class\n",
      "Inside SportsCar class\n"
     ]
    }
   ],
   "source": [
    "\n",
    "class Vehicle:\n",
    "    def Vehicle_info(self):\n",
    "        print('Inside Vehicle class')\n",
    "class Car(Vehicle):\n",
    "    def car_info(self):\n",
    "        print('Inside Car class')\n",
    "class SportsCar(Car):\n",
    "    def sports_car_info(self):\n",
    "        print('Inside SportsCar class')\n",
    "s_car = SportsCar()\n",
    "s_car.Vehicle_info()\n",
    "s_car.car_info()\n",
    "s_car.sports_car_info()\n"
   ]
  },
  {
   "cell_type": "markdown",
   "id": "1173e63d",
   "metadata": {},
   "source": [
    "Hierarchical inheritance"
   ]
  },
  {
   "cell_type": "code",
   "execution_count": 16,
   "id": "1f7771d8",
   "metadata": {},
   "outputs": [
    {
     "name": "stdout",
     "output_type": "stream",
     "text": [
      "This is Vehicle\n",
      "Car name is: BMW\n",
      "This is Vehicle\n",
      "Truck name is: Ford\n"
     ]
    }
   ],
   "source": [
    "class Vehicle:\n",
    "    def info(self):\n",
    "        print(\"This is Vehicle\")\n",
    "\n",
    "class Car(Vehicle):\n",
    "    def car_info(self, name):\n",
    "        print(\"Car name is:\", name)\n",
    "\n",
    "class Truck(Vehicle):\n",
    "    def truck_info(self, name):\n",
    "        print(\"Truck name is:\", name)\n",
    "\n",
    "obj1 = Car()\n",
    "obj1.info()\n",
    "obj1.car_info('BMW')\n",
    "\n",
    "obj2 = Truck()\n",
    "obj2.info()\n",
    "obj2.truck_info('Ford')"
   ]
  },
  {
   "cell_type": "markdown",
   "id": "bf3ae3da",
   "metadata": {},
   "source": [
    "hybride inheritance"
   ]
  },
  {
   "cell_type": "code",
   "execution_count": 20,
   "id": "cc758015",
   "metadata": {},
   "outputs": [
    {
     "name": "stdout",
     "output_type": "stream",
     "text": [
      "This\n",
      "is\n",
      "Car\n"
     ]
    }
   ],
   "source": [
    "class Vehicle:\n",
    "    def vehicle_info(self):\n",
    "        print(\"This\")\n",
    "\n",
    "class Car(Vehicle):\n",
    "    def car_info(self):\n",
    "        print(\"is\")\n",
    "\n",
    "class Truck(Vehicle):\n",
    "    def truck_info(self):\n",
    "        print(\"my\")\n",
    "class SportsCar(Car, Vehicle):\n",
    "    def sports_car_info(self):\n",
    "        print(\"Car\")\n",
    "\n",
    "# create object\n",
    "s_car = SportsCar()\n",
    "\n",
    "s_car.vehicle_info()\n",
    "s_car.car_info()\n",
    "s_car.sports_car_info()"
   ]
  },
  {
   "cell_type": "code",
   "execution_count": null,
   "id": "cf2aa77f",
   "metadata": {},
   "outputs": [],
   "source": []
  }
 ],
 "metadata": {
  "kernelspec": {
   "display_name": "Python 3 (ipykernel)",
   "language": "python",
   "name": "python3"
  },
  "language_info": {
   "codemirror_mode": {
    "name": "ipython",
    "version": 3
   },
   "file_extension": ".py",
   "mimetype": "text/x-python",
   "name": "python",
   "nbconvert_exporter": "python",
   "pygments_lexer": "ipython3",
   "version": "3.9.13"
  }
 },
 "nbformat": 4,
 "nbformat_minor": 5
}
