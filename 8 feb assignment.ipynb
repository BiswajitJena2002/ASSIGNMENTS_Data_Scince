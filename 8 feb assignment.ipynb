{
 "cells": [
  {
   "cell_type": "markdown",
   "id": "7ca27898",
   "metadata": {},
   "source": [
    "# 1."
   ]
  },
  {
   "cell_type": "markdown",
   "id": "b336dce0",
   "metadata": {},
   "source": [
    "abstraction used to hide infomation from user.means user know that what the function by using the fuction but do'nt know how fuction does this work"
   ]
  },
  {
   "cell_type": "code",
   "execution_count": 4,
   "id": "7516dd08",
   "metadata": {},
   "outputs": [],
   "source": [
    "from abc import ABC\n",
    "class mobile(ABC):\n",
    "    def brand(self):\n",
    "        pass\n",
    "class mobile_1(mobile):\n",
    "    def brand(self):\n",
    "        print(\"MI\")\n",
    "class mobile_2(mobile):\n",
    "    def brand(self):\n",
    "        print(\"VIVO\")\n",
    "class mobile_3(mobile):\n",
    "    def brand(self):\n",
    "        print(\"SAMSUNG\")\n",
    "\n"
   ]
  },
  {
   "cell_type": "code",
   "execution_count": 5,
   "id": "54611c5a",
   "metadata": {},
   "outputs": [
    {
     "name": "stdout",
     "output_type": "stream",
     "text": [
      "VIVO\n"
     ]
    }
   ],
   "source": [
    "brand_mobile=mobile_2()\n",
    "brand_mobile.brand()"
   ]
  },
  {
   "cell_type": "markdown",
   "id": "346221b9",
   "metadata": {},
   "source": [
    "# 2."
   ]
  },
  {
   "cell_type": "markdown",
   "id": "85bc0945",
   "metadata": {},
   "source": [
    "the technique of hiding internal details of a program and exposing the functionality only is called abstraction. Data Encapsulation can be described as the technique of binding up of data along with its correlate methods as a single unit. Implementation hiding is done using this technique."
   ]
  },
  {
   "cell_type": "code",
   "execution_count": 6,
   "id": "59f04db2",
   "metadata": {},
   "outputs": [],
   "source": [
    "from abc import ABC\n",
    "class mobile(ABC):\n",
    "    def brand(self):\n",
    "        pass\n",
    "class mobile_1(mobile):\n",
    "    def brand(self):\n",
    "        print(\"MI\")\n",
    "class mobile_2(mobile):\n",
    "    def brand(self):\n",
    "        print(\"VIVO\")\n",
    "class mobile_3(mobile):\n",
    "    def brand(self):\n",
    "        print(\"SAMSUNG\")"
   ]
  },
  {
   "cell_type": "code",
   "execution_count": 7,
   "id": "34f8fc69",
   "metadata": {},
   "outputs": [
    {
     "name": "stdout",
     "output_type": "stream",
     "text": [
      "SAMSUNG\n"
     ]
    }
   ],
   "source": [
    "brand_mob=mobile_3()\n",
    "brand_mob.brand()"
   ]
  },
  {
   "cell_type": "code",
   "execution_count": 9,
   "id": "03768f78",
   "metadata": {},
   "outputs": [
    {
     "name": "stdout",
     "output_type": "stream",
     "text": [
      "Name:  Biswajit\n",
      "Age:  21\n"
     ]
    }
   ],
   "source": [
    "\n",
    "class man:\n",
    "    def __init__(self, name, age):\n",
    "        self.name = name;\n",
    "        self.age = age;\n",
    " \n",
    "    def Age(self): \n",
    "        print(\"Age: \", self.age)\n",
    "obj = man(\"Biswajit\", 21);\n",
    "print(\"Name: \", obj.name)  \n",
    "obj.Age()\n"
   ]
  },
  {
   "cell_type": "markdown",
   "id": "6cc9009d",
   "metadata": {},
   "source": [
    "# 3."
   ]
  },
  {
   "cell_type": "markdown",
   "id": "5c9177de",
   "metadata": {},
   "source": [
    "it is a in built python module used to create abstract base classes"
   ]
  },
  {
   "cell_type": "code",
   "execution_count": 10,
   "id": "0607e38e",
   "metadata": {},
   "outputs": [],
   "source": [
    "import abc"
   ]
  },
  {
   "cell_type": "markdown",
   "id": "9a7c4b8a",
   "metadata": {},
   "source": [
    "or"
   ]
  },
  {
   "cell_type": "code",
   "execution_count": 12,
   "id": "98b137eb",
   "metadata": {},
   "outputs": [],
   "source": [
    "from abc import ABC"
   ]
  },
  {
   "cell_type": "markdown",
   "id": "9607a243",
   "metadata": {},
   "source": [
    "# 4."
   ]
  },
  {
   "cell_type": "markdown",
   "id": "f01a8dbd",
   "metadata": {},
   "source": [
    "data abstraction is a process in which essential elements are visiable to the user but the trival elments are kept hidden.\n",
    "we use data abstraction by importing python in built module abc."
   ]
  },
  {
   "cell_type": "markdown",
   "id": "3411a675",
   "metadata": {},
   "source": [
    "# 5."
   ]
  },
  {
   "cell_type": "markdown",
   "id": "4d7e6bcd",
   "metadata": {},
   "source": [
    "abstract classes are not complete some methodes in abstract classes are not completly defind so instance of abstract clases is not possible.\n",
    "if we try then it shows error"
   ]
  },
  {
   "cell_type": "code",
   "execution_count": null,
   "id": "99083222",
   "metadata": {},
   "outputs": [],
   "source": []
  }
 ],
 "metadata": {
  "kernelspec": {
   "display_name": "Python 3 (ipykernel)",
   "language": "python",
   "name": "python3"
  },
  "language_info": {
   "codemirror_mode": {
    "name": "ipython",
    "version": 3
   },
   "file_extension": ".py",
   "mimetype": "text/x-python",
   "name": "python",
   "nbconvert_exporter": "python",
   "pygments_lexer": "ipython3",
   "version": "3.9.13"
  }
 },
 "nbformat": 4,
 "nbformat_minor": 5
}
