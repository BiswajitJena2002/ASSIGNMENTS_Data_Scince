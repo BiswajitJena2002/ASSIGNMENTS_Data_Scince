{
 "cells": [
  {
   "cell_type": "markdown",
   "id": "39cbcd95",
   "metadata": {},
   "source": [
    "# Q1. Create a function which will take a list as an argument and return the product of all the numbers\n",
    "after creating a flat list.\n",
    "Use the below-given list as an argument for your function.\n",
    "list1 = [1,2,3,4, [44,55,66, True], False, (34,56,78,89,34), {1,2,3,3,2,1}, {1:34, \"key2\": [55, 67, 78, 89], 4: (45,\n",
    "22, 61, 34)}, [56, 'data science'], 'Machine Learning']"
   ]
  },
  {
   "cell_type": "code",
   "execution_count": 22,
   "id": "b6f934d6",
   "metadata": {},
   "outputs": [],
   "source": [
    "list1 = [1,2,3,4, [44,55,66, True], False, (34,56,78,89,34), {1,2,3,3,2,1}, {1:34, \"key2\": [55, 67, 78, 89], 4: (45, 22, 61, 34)}, [56, 'data science'], 'Machine Learning']"
   ]
  },
  {
   "cell_type": "code",
   "execution_count": 62,
   "id": "90582320",
   "metadata": {},
   "outputs": [],
   "source": [
    "l=[]\n",
    "def extract(l1):\n",
    "    for i in l1:\n",
    "        if type(i)==int:\n",
    "            l.append(i)\n",
    "        elif type(i)==bool or type(i)==str:\n",
    "            pass\n",
    "        elif type(i)==dict:\n",
    "            for x in list(i.keys()):\n",
    "                if type(x)==int:\n",
    "                    l.append(x)\n",
    "                else :\n",
    "                    pass\n",
    "            for x in list(i.values()):\n",
    "                if type(x)==int:\n",
    "                    l.append(x)\n",
    "                else :\n",
    "                    for y in x:\n",
    "                        l.append(y)\n",
    "        else :\n",
    "            for j in i:\n",
    "                l.append(j)\n",
    "    return l"
   ]
  },
  {
   "cell_type": "code",
   "execution_count": 63,
   "id": "c44e4577",
   "metadata": {},
   "outputs": [],
   "source": [
    "flat_list=extract(list1)"
   ]
  },
  {
   "cell_type": "code",
   "execution_count": 64,
   "id": "645654cb",
   "metadata": {},
   "outputs": [
    {
     "name": "stdout",
     "output_type": "stream",
     "text": [
      "[1, 2, 3, 4, 44, 55, 66, True, 34, 56, 78, 89, 34, 1, 2, 3, 1, 4, 34, 55, 67, 78, 89, 45, 22, 61, 34, 56, 'data science']\n"
     ]
    }
   ],
   "source": [
    "print(flat_list)"
   ]
  },
  {
   "cell_type": "code",
   "execution_count": 65,
   "id": "c609a580",
   "metadata": {},
   "outputs": [
    {
     "name": "stdout",
     "output_type": "stream",
     "text": [
      "4134711838987085478833841242112000\n"
     ]
    }
   ],
   "source": [
    "result=1\n",
    "for i in l:\n",
    "    if type(i)==int:\n",
    "        result=result*i\n",
    "print(result)\n",
    "    "
   ]
  },
  {
   "cell_type": "markdown",
   "id": "26f3c7d7",
   "metadata": {},
   "source": [
    "# 2."
   ]
  },
  {
   "cell_type": "code",
   "execution_count": 69,
   "id": "5e6ba768",
   "metadata": {},
   "outputs": [
    {
     "data": {
      "text/plain": [
       "'i$wznt$to$yezome$z$dztz$szientist.'"
      ]
     },
     "execution_count": 69,
     "metadata": {},
     "output_type": "execute_result"
    }
   ],
   "source": [
    "s=\"I want to become a Data Scientist.\"\n",
    "s1=s.lower()\n",
    "s2=(((s1.replace(\"a\",\"z\")).replace(\"b\",\"y\")).replace(\"c\",\"z\")).replace(\" \",\"$\")\n",
    "s2"
   ]
  },
  {
   "cell_type": "code",
   "execution_count": null,
   "id": "cfb0b090",
   "metadata": {},
   "outputs": [],
   "source": []
  }
 ],
 "metadata": {
  "kernelspec": {
   "display_name": "Python 3 (ipykernel)",
   "language": "python",
   "name": "python3"
  },
  "language_info": {
   "codemirror_mode": {
    "name": "ipython",
    "version": 3
   },
   "file_extension": ".py",
   "mimetype": "text/x-python",
   "name": "python",
   "nbconvert_exporter": "python",
   "pygments_lexer": "ipython3",
   "version": "3.9.13"
  }
 },
 "nbformat": 4,
 "nbformat_minor": 5
}
