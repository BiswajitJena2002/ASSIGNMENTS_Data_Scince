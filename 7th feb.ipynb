{
 "cells": [
  {
   "cell_type": "markdown",
   "id": "e31a5f91",
   "metadata": {},
   "source": [
    "# 1."
   ]
  },
  {
   "cell_type": "code",
   "execution_count": 31,
   "id": "00441835",
   "metadata": {},
   "outputs": [],
   "source": [
    "def chake():\n",
    "    \n",
    "    s=input(\"enter your password --> \")\n",
    "    special=\"[@_!#$%^&*()<>?/\\|}{~:]\"\n",
    "    l,u,n,sp=1,1,1,1\n",
    "    if len(s)>10:\n",
    "        for i in s:\n",
    "            if i.islower:\n",
    "                l=l+1\n",
    "            if i.isupper:\n",
    "                u=u+1\n",
    "            if i.isnumeric:\n",
    "                n=n+1\n",
    "            for j in special:\n",
    "                if i==j:\n",
    "                    sp=sp+1\n",
    "    if l>2 and u>2 and n>1 and sp>3:\n",
    "        print(\"Valid Password\")\n",
    "    else:\n",
    "        print(\"Invalid password\")"
   ]
  },
  {
   "cell_type": "code",
   "execution_count": 29,
   "id": "d5952dbf",
   "metadata": {},
   "outputs": [
    {
     "name": "stdout",
     "output_type": "stream",
     "text": [
      "enter your password --> BIswajit@1#2%3*\n",
      "Valid Password\n"
     ]
    }
   ],
   "source": [
    "chake()"
   ]
  },
  {
   "cell_type": "code",
   "execution_count": 33,
   "id": "2b000115",
   "metadata": {},
   "outputs": [
    {
     "name": "stdout",
     "output_type": "stream",
     "text": [
      "enter your password --> njdjn@3773775e5w\n",
      "Invalid password\n"
     ]
    }
   ],
   "source": [
    "chake()"
   ]
  },
  {
   "cell_type": "markdown",
   "id": "fab3a706",
   "metadata": {},
   "source": [
    "# 2."
   ]
  },
  {
   "cell_type": "markdown",
   "id": "1b35bc9e",
   "metadata": {},
   "source": [
    "Check if the string starts with a particular letter"
   ]
  },
  {
   "cell_type": "code",
   "execution_count": 38,
   "id": "f7b5f4f0",
   "metadata": {},
   "outputs": [
    {
     "name": "stdout",
     "output_type": "stream",
     "text": [
      "Biswajit\n"
     ]
    },
    {
     "data": {
      "text/plain": [
       "True"
      ]
     },
     "execution_count": 38,
     "metadata": {},
     "output_type": "execute_result"
    }
   ],
   "source": [
    "s=input()\n",
    "x=lambda x: x[0]==\"B\"\n",
    "x(s)"
   ]
  },
  {
   "cell_type": "markdown",
   "id": "332739b1",
   "metadata": {},
   "source": [
    "Check if the string is numeric"
   ]
  },
  {
   "cell_type": "code",
   "execution_count": 40,
   "id": "2af2fd6b",
   "metadata": {},
   "outputs": [
    {
     "name": "stdout",
     "output_type": "stream",
     "text": [
      "234\n"
     ]
    },
    {
     "data": {
      "text/plain": [
       "True"
      ]
     },
     "execution_count": 40,
     "metadata": {},
     "output_type": "execute_result"
    }
   ],
   "source": [
    "s=input()\n",
    "x=lambda x: x.isnumeric()\n",
    "x(s)"
   ]
  },
  {
   "cell_type": "markdown",
   "id": "ac74bca5",
   "metadata": {},
   "source": [
    "Sort a list of tuples having fruit names and their quantity. [(\"mango\",99),(\"orange\",80), (\"grapes\", 1000)]"
   ]
  },
  {
   "cell_type": "code",
   "execution_count": 41,
   "id": "81d22da4",
   "metadata": {},
   "outputs": [
    {
     "data": {
      "text/plain": [
       "[('orange', 80), ('mango', 99), ('grapes', 1000)]"
      ]
     },
     "execution_count": 41,
     "metadata": {},
     "output_type": "execute_result"
    }
   ],
   "source": [
    "l=[(\"mango\",99),(\"orange\",80), (\"grapes\", 1000)]\n",
    "def arrange(list):\n",
    "    for j in range((len(list)-1)):\n",
    "        for i in range((len(list)-1)):\n",
    "            if list[i][1]>list[i+1][1]:\n",
    "                temp=list[i]\n",
    "                list[i]=list[i+1]\n",
    "                list[i+1]=temp\n",
    "    return list\n",
    "call=lambda x:arrange(x)\n",
    "call(l)"
   ]
  },
  {
   "cell_type": "markdown",
   "id": "4cc9f691",
   "metadata": {},
   "source": [
    "Find the squares of numbers from 1 to 10"
   ]
  },
  {
   "cell_type": "code",
   "execution_count": 42,
   "id": "6aadf9c5",
   "metadata": {},
   "outputs": [
    {
     "data": {
      "text/plain": [
       "[1, 4, 9, 16, 25, 36, 49, 64, 81, 100]"
      ]
     },
     "execution_count": 42,
     "metadata": {},
     "output_type": "execute_result"
    }
   ],
   "source": [
    "l=[1, 2, 3, 4, 5, 6, 7, 8, 9, 10]\n",
    "l1=list(map(lambda x : x**2,l))\n",
    "l1"
   ]
  },
  {
   "cell_type": "markdown",
   "id": "b756363f",
   "metadata": {},
   "source": [
    "Find the cube root of numbers from 1 to 10"
   ]
  },
  {
   "cell_type": "code",
   "execution_count": 43,
   "id": "1fc587eb",
   "metadata": {},
   "outputs": [
    {
     "data": {
      "text/plain": [
       "[1.0,\n",
       " 1.2599210498948732,\n",
       " 1.4422495703074083,\n",
       " 1.5874010519681994,\n",
       " 1.7099759466766968,\n",
       " 1.8171205928321397,\n",
       " 1.912931182772389,\n",
       " 2.0,\n",
       " 2.080083823051904,\n",
       " 2.154434690031884]"
      ]
     },
     "execution_count": 43,
     "metadata": {},
     "output_type": "execute_result"
    }
   ],
   "source": [
    "l=[1, 2, 3, 4, 5, 6, 7, 8, 9, 10]\n",
    "l1=list(map(lambda x : x**(1/3),l))\n",
    "l1"
   ]
  },
  {
   "cell_type": "markdown",
   "id": "22cada7c",
   "metadata": {},
   "source": [
    "Check if a given number is even"
   ]
  },
  {
   "cell_type": "code",
   "execution_count": 53,
   "id": "7bd0e01f",
   "metadata": {},
   "outputs": [
    {
     "name": "stdout",
     "output_type": "stream",
     "text": [
      "enter a number 66\n"
     ]
    },
    {
     "data": {
      "text/plain": [
       "'True'"
      ]
     },
     "execution_count": 53,
     "metadata": {},
     "output_type": "execute_result"
    }
   ],
   "source": [
    "n=int(input(\"enter a number \"))\n",
    "def even (x):\n",
    "    if x%2==0:\n",
    "        s=\"True\"\n",
    "    return s\n",
    "fun=lambda x : even(x)\n",
    "fun(n)"
   ]
  },
  {
   "cell_type": "markdown",
   "id": "3335176e",
   "metadata": {},
   "source": [
    "Filter odd numbers from the given list [1,2,3,4,5,6,7,8,9,10]"
   ]
  },
  {
   "cell_type": "code",
   "execution_count": 54,
   "id": "74f4e169",
   "metadata": {},
   "outputs": [
    {
     "data": {
      "text/plain": [
       "[1, 3, 5, 7, 9]"
      ]
     },
     "execution_count": 54,
     "metadata": {},
     "output_type": "execute_result"
    }
   ],
   "source": [
    "l=[1,2,3,4,5,6,7,8,9,10]\n",
    "l1=list(filter(lambda x: x%2==1,l))\n",
    "l1"
   ]
  },
  {
   "cell_type": "markdown",
   "id": "d15ce66e",
   "metadata": {},
   "source": [
    "Sort a list of integers into positive and negative integers lists [1,2,3,4,5,6,-1,-2,-3,-4,-5,0]"
   ]
  },
  {
   "cell_type": "code",
   "execution_count": 60,
   "id": "5861d0d1",
   "metadata": {},
   "outputs": [
    {
     "data": {
      "text/plain": [
       "([0, 1, 2, 3, 4, 5, 6], [-5, -4, -3, -2, -1, 0])"
      ]
     },
     "execution_count": 60,
     "metadata": {},
     "output_type": "execute_result"
    }
   ],
   "source": [
    "l=[1,2,3,4,5,6,-1,-2,-3,-4,-5,0]\n",
    "l_positve=sorted(list(filter(lambda x:x>=0,l)))\n",
    "l_negative=sorted(list(filter(lambda x:x<=0,l)))\n",
    "l_positve,l_negative\n"
   ]
  }
 ],
 "metadata": {
  "kernelspec": {
   "display_name": "Python 3 (ipykernel)",
   "language": "python",
   "name": "python3"
  },
  "language_info": {
   "codemirror_mode": {
    "name": "ipython",
    "version": 3
   },
   "file_extension": ".py",
   "mimetype": "text/x-python",
   "name": "python",
   "nbconvert_exporter": "python",
   "pygments_lexer": "ipython3",
   "version": "3.9.13"
  }
 },
 "nbformat": 4,
 "nbformat_minor": 5
}
