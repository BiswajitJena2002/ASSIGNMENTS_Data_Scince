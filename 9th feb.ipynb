{
 "cells": [
  {
   "cell_type": "markdown",
   "id": "2b00af33",
   "metadata": {},
   "source": [
    "# 1."
   ]
  },
  {
   "cell_type": "code",
   "execution_count": 1,
   "id": "3141c574",
   "metadata": {},
   "outputs": [],
   "source": [
    "class Vehicle:\n",
    "    def __init__(self, name_of_vehicle, max_speed, average_speed):\n",
    "        self.name_of_vehicle = name_of_vehicle\n",
    "        self.max_speed = max_speed\n",
    "        self.average_speed = average_speed\n"
   ]
  },
  {
   "cell_type": "code",
   "execution_count": 3,
   "id": "1b2f4106",
   "metadata": {},
   "outputs": [
    {
     "name": "stdout",
     "output_type": "stream",
     "text": [
      "Car\n",
      "200\n",
      "80\n"
     ]
    }
   ],
   "source": [
    "car = Vehicle(\"Car\", 200, 80)\n",
    "print(car.name_of_vehicle) \n",
    "print(car.max_speed)\n",
    "print(car.average_speed)\n"
   ]
  },
  {
   "cell_type": "markdown",
   "id": "1c209a67",
   "metadata": {},
   "source": [
    "# 2."
   ]
  },
  {
   "cell_type": "code",
   "execution_count": 4,
   "id": "3a9a30a1",
   "metadata": {},
   "outputs": [],
   "source": [
    "class Car(Vehicle):\n",
    "    def seating_capacity(self, capacity):\n",
    "        return f\"The {self.name_of_vehicle} has a seating capacity of {capacity}.\"\n",
    "\n"
   ]
  },
  {
   "cell_type": "code",
   "execution_count": 5,
   "id": "c5269564",
   "metadata": {},
   "outputs": [
    {
     "name": "stdout",
     "output_type": "stream",
     "text": [
      "The Toyota has a seating capacity of 5.\n"
     ]
    }
   ],
   "source": [
    "car = Car(\"Toyota\", 200, 80)\n",
    "print(car.seating_capacity(5))\n"
   ]
  },
  {
   "cell_type": "markdown",
   "id": "6396d4f7",
   "metadata": {},
   "source": [
    "# 3."
   ]
  },
  {
   "cell_type": "markdown",
   "id": "ea687ab0",
   "metadata": {},
   "source": [
    "Multiple inheritance is a feature in object-oriented programming where a class can inherit attributes and behaviors from multiple parent classes."
   ]
  },
  {
   "cell_type": "code",
   "execution_count": 6,
   "id": "cebd4dcd",
   "metadata": {},
   "outputs": [
    {
     "name": "stdout",
     "output_type": "stream",
     "text": [
      "Parrot is eating.\n",
      "Parrot is sleeping.\n",
      "Parrot is flying.\n"
     ]
    }
   ],
   "source": [
    "class Animal:\n",
    "    def __init__(self, name):\n",
    "        self.name = name\n",
    "\n",
    "    def eat(self):\n",
    "        print(f\"{self.name} is eating.\")\n",
    "\n",
    "    def sleep(self):\n",
    "        print(f\"{self.name} is sleeping.\")\n",
    "\n",
    "\n",
    "class Flyable:\n",
    "    def fly(self):\n",
    "        print(f\"{self.name} is flying.\")\n",
    "\n",
    "\n",
    "class Bird(Animal, Flyable):\n",
    "    def __init__(self, name):\n",
    "        super().__init__(name)\n",
    "\n",
    "\n",
    "parrot = Bird(\"Parrot\")\n",
    "parrot.eat()\n",
    "parrot.sleep()\n",
    "parrot.fly()\n"
   ]
  },
  {
   "cell_type": "markdown",
   "id": "f170ac75",
   "metadata": {},
   "source": [
    "# 4."
   ]
  },
  {
   "cell_type": "markdown",
   "id": "4118a458",
   "metadata": {},
   "source": [
    "In Python, getter and setter methods are used to control access to the attributes of a class. They provide a way to retrieve (get) and modify (set) the values of private attributes indirectly, allowing for encapsulation and data abstraction. The getter method retrieves the value of an attribute, while the setter method sets or modifies the value of an attribute."
   ]
  },
  {
   "cell_type": "code",
   "execution_count": 7,
   "id": "56fb3915",
   "metadata": {},
   "outputs": [],
   "source": [
    "class Person:\n",
    "    def __init__(self, name):\n",
    "        self._name = name\n",
    "\n",
    "    def get_name(self):\n",
    "        return self._name\n",
    "\n",
    "    def set_name(self, new_name):\n",
    "        self._name = new_name\n"
   ]
  },
  {
   "cell_type": "code",
   "execution_count": 8,
   "id": "2421e2bd",
   "metadata": {},
   "outputs": [
    {
     "name": "stdout",
     "output_type": "stream",
     "text": [
      "John\n",
      "Alice\n"
     ]
    }
   ],
   "source": [
    "person = Person(\"John\")\n",
    "print(person.get_name())\n",
    "\n",
    "person.set_name(\"Alice\")\n",
    "print(person.get_name())\n"
   ]
  },
  {
   "cell_type": "markdown",
   "id": "c8b4e9af",
   "metadata": {},
   "source": [
    "# 5."
   ]
  },
  {
   "cell_type": "markdown",
   "id": "3958526a",
   "metadata": {},
   "source": [
    "Method overriding is a feature in object-oriented programming where a child class provides its own implementation of a method that is already defined in its parent class. The child class overrides the behavior of the parent class method to suit its specific needs."
   ]
  },
  {
   "cell_type": "code",
   "execution_count": 10,
   "id": "d939c7be",
   "metadata": {},
   "outputs": [
    {
     "name": "stdout",
     "output_type": "stream",
     "text": [
      "High\n",
      "Low\n"
     ]
    }
   ],
   "source": [
    "class Vehicle:\n",
    "    def fuel_efficiency(self):\n",
    "        return \"Unknown\"\n",
    "\n",
    "class Car(Vehicle):\n",
    "    def fuel_efficiency(self):\n",
    "        return \"High\"\n",
    "\n",
    "class Motorcycle(Vehicle):\n",
    "    def fuel_efficiency(self):\n",
    "        return \"Low\"\n",
    "\n",
    "car = Car()\n",
    "print(car.fuel_efficiency())\n",
    "\n",
    "motorcycle = Motorcycle()\n",
    "print(motorcycle.fuel_efficiency())\n"
   ]
  },
  {
   "cell_type": "code",
   "execution_count": null,
   "id": "72ce905d",
   "metadata": {},
   "outputs": [],
   "source": []
  }
 ],
 "metadata": {
  "kernelspec": {
   "display_name": "Python 3 (ipykernel)",
   "language": "python",
   "name": "python3"
  },
  "language_info": {
   "codemirror_mode": {
    "name": "ipython",
    "version": 3
   },
   "file_extension": ".py",
   "mimetype": "text/x-python",
   "name": "python",
   "nbconvert_exporter": "python",
   "pygments_lexer": "ipython3",
   "version": "3.9.13"
  }
 },
 "nbformat": 4,
 "nbformat_minor": 5
}
