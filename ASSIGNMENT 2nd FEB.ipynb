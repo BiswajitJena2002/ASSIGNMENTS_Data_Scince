{
 "cells": [
  {
   "cell_type": "markdown",
   "id": "6746abe6",
   "metadata": {},
   "source": [
    "# 1."
   ]
  },
  {
   "cell_type": "code",
   "execution_count": 22,
   "id": "a880e54c",
   "metadata": {},
   "outputs": [],
   "source": [
    "import math\n"
   ]
  },
  {
   "cell_type": "markdown",
   "id": "92ba36c8",
   "metadata": {},
   "source": [
    "for:\n",
    "     A for loop is an iteration method that is best used when you know the number of iterations ahead of time.\n",
    "        it needs initialization, expression and increment statements."
   ]
  },
  {
   "cell_type": "code",
   "execution_count": 23,
   "id": "048526f2",
   "metadata": {},
   "outputs": [
    {
     "name": "stdout",
     "output_type": "stream",
     "text": [
      "1\n",
      "2\n",
      "3\n",
      "4\n",
      "5\n",
      "6\n",
      "7\n",
      "8\n",
      "9\n"
     ]
    }
   ],
   "source": [
    "for i in range(1,10):\n",
    "    print(i)\n"
   ]
  },
  {
   "cell_type": "markdown",
   "id": "1596bc39",
   "metadata": {},
   "source": [
    "while:A while loop is an iteration method that is best used when you don't know the number of iterations.the loop statement runs \n",
    "    until the false condition\n",
    "    "
   ]
  },
  {
   "cell_type": "code",
   "execution_count": 24,
   "id": "962b03d6",
   "metadata": {},
   "outputs": [
    {
     "name": "stdout",
     "output_type": "stream",
     "text": [
      "1\n",
      "2\n",
      "3\n",
      "4\n",
      "5\n",
      "6\n",
      "7\n",
      "8\n",
      "9\n"
     ]
    }
   ],
   "source": [
    "i=1\n",
    "while i<10:\n",
    "    print(i)\n",
    "    i=i+1\n",
    "    "
   ]
  },
  {
   "cell_type": "markdown",
   "id": "4c0242a7",
   "metadata": {},
   "source": [
    "# 2."
   ]
  },
  {
   "cell_type": "markdown",
   "id": "464fe23e",
   "metadata": {},
   "source": [
    "sum and multiplication of first 10 natural number using for and while loop"
   ]
  },
  {
   "cell_type": "markdown",
   "id": "7c52abac",
   "metadata": {},
   "source": [
    "for"
   ]
  },
  {
   "cell_type": "code",
   "execution_count": 1,
   "id": "9deb1250",
   "metadata": {},
   "outputs": [
    {
     "name": "stdout",
     "output_type": "stream",
     "text": [
      "55\n"
     ]
    }
   ],
   "source": [
    "x=0\n",
    "for i in range(1,11):\n",
    "    x=x+i\n",
    "print(x)    "
   ]
  },
  {
   "cell_type": "code",
   "execution_count": 2,
   "id": "1812fc3b",
   "metadata": {},
   "outputs": [
    {
     "name": "stdout",
     "output_type": "stream",
     "text": [
      "3628800\n"
     ]
    }
   ],
   "source": [
    "x=1\n",
    "for i in range(1,11):\n",
    "    x=x*i\n",
    "print(x)    "
   ]
  },
  {
   "cell_type": "markdown",
   "id": "a73d3cfc",
   "metadata": {},
   "source": [
    "while"
   ]
  },
  {
   "cell_type": "code",
   "execution_count": 3,
   "id": "4d01892e",
   "metadata": {},
   "outputs": [
    {
     "name": "stdout",
     "output_type": "stream",
     "text": [
      "55\n"
     ]
    }
   ],
   "source": [
    "x=0\n",
    "a=0\n",
    "while x<11:\n",
    "    a=a+x\n",
    "    x=x+1\n",
    "print(a)    "
   ]
  },
  {
   "cell_type": "code",
   "execution_count": 4,
   "id": "a0d62f66",
   "metadata": {},
   "outputs": [
    {
     "name": "stdout",
     "output_type": "stream",
     "text": [
      "3628800\n"
     ]
    }
   ],
   "source": [
    "x=1\n",
    "a=1\n",
    "while x<11:\n",
    "    a=a*x\n",
    "    x=x+1\n",
    "print(a)    "
   ]
  },
  {
   "cell_type": "markdown",
   "id": "5f72d6c3",
   "metadata": {},
   "source": [
    "# 3."
   ]
  },
  {
   "cell_type": "code",
   "execution_count": 5,
   "id": "a5a4c55f",
   "metadata": {},
   "outputs": [
    {
     "name": "stdout",
     "output_type": "stream",
     "text": [
      "Enter your Electricity Unit310\n",
      "2250.0\n"
     ]
    }
   ],
   "source": [
    "unit=int(input(\"Enter your Electricity Unit\"))\n",
    "if unit<=100:\n",
    "    bill=unit*4.5\n",
    "elif unit<=200:\n",
    "    bill=100*4.5 +(unit-100)*6\n",
    "elif unit<=300:\n",
    "    bill=100*4.5 + 100*6 +(unit-200)*10\n",
    "else:\n",
    "    bill=100*4.5 + 100*6 +100*10 +(unit-300)*20\n",
    "print(bill)    "
   ]
  },
  {
   "cell_type": "markdown",
   "id": "acea55bd",
   "metadata": {},
   "source": [
    "# 4."
   ]
  },
  {
   "cell_type": "code",
   "execution_count": 6,
   "id": "8f5923c7",
   "metadata": {},
   "outputs": [],
   "source": [
    "l=[]\n",
    "l1=[]\n",
    "l2=[]\n",
    "for i in range(1,101):\n",
    "    l.append(i)"
   ]
  },
  {
   "cell_type": "code",
   "execution_count": 9,
   "id": "e51052e1",
   "metadata": {},
   "outputs": [
    {
     "name": "stdout",
     "output_type": "stream",
     "text": [
      "[2, 4, 5, 6, 8, 10, 12, 14, 15, 16, 18, 20, 22, 24, 25, 26, 28, 30, 32, 34, 35, 36, 38, 40, 42, 44, 45, 46, 48, 50, 52, 54, 55, 56, 58, 60, 62, 64, 65, 66, 68, 70, 72, 74, 75, 76, 78, 80, 82, 84, 85, 86, 88, 90, 92, 94, 95, 96, 98, 100]\n"
     ]
    }
   ],
   "source": [
    "for j in l:\n",
    "    if math.pow(j,3)%4==0 or math.pow(j,3)%5==0 :\n",
    "        l1.append(j)\n",
    "print(l1)    "
   ]
  },
  {
   "cell_type": "markdown",
   "id": "da5cb729",
   "metadata": {},
   "source": [
    "# 5."
   ]
  },
  {
   "cell_type": "code",
   "execution_count": 21,
   "id": "bf0bc937",
   "metadata": {},
   "outputs": [
    {
     "name": "stdout",
     "output_type": "stream",
     "text": [
      "12\n",
      "['I', 'a', 'o', 'e', 'o', 'e', 'a', 'a', 'a', 'i', 'e', 'i']\n"
     ]
    }
   ],
   "source": [
    "s=\"I want to become a data scientist\"\n",
    "v=\"AaEeIiOoUu\"\n",
    "def find(s,v):\n",
    "    result=[i for i in s if i in v]\n",
    "    print(len(result))\n",
    "    print(result)\n",
    "find(s,v)"
   ]
  },
  {
   "cell_type": "code",
   "execution_count": null,
   "id": "170c1756",
   "metadata": {},
   "outputs": [],
   "source": []
  }
 ],
 "metadata": {
  "kernelspec": {
   "display_name": "Python 3 (ipykernel)",
   "language": "python",
   "name": "python3"
  },
  "language_info": {
   "codemirror_mode": {
    "name": "ipython",
    "version": 3
   },
   "file_extension": ".py",
   "mimetype": "text/x-python",
   "name": "python",
   "nbconvert_exporter": "python",
   "pygments_lexer": "ipython3",
   "version": "3.9.13"
  }
 },
 "nbformat": 4,
 "nbformat_minor": 5
}
