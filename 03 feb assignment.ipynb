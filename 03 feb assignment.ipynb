{
 "cells": [
  {
   "cell_type": "markdown",
   "id": "014c9dc7",
   "metadata": {},
   "source": [
    "# 1."
   ]
  },
  {
   "cell_type": "markdown",
   "id": "2c022963",
   "metadata": {},
   "source": [
    "def keyword is used to create a function.\n",
    "EX-"
   ]
  },
  {
   "cell_type": "code",
   "execution_count": 14,
   "id": "0573a07e",
   "metadata": {},
   "outputs": [],
   "source": [
    "l=[]\n",
    "def Odd_num(n):\n",
    "    for i in range(n):\n",
    "        if i%2 != 0:\n",
    "            l.append(i)\n",
    "    return l        \n",
    "        "
   ]
  },
  {
   "cell_type": "code",
   "execution_count": 15,
   "id": "c67a8937",
   "metadata": {},
   "outputs": [
    {
     "data": {
      "text/plain": [
       "[1, 3, 5, 7, 9, 11, 13, 15, 17, 19, 21, 23, 25]"
      ]
     },
     "execution_count": 15,
     "metadata": {},
     "output_type": "execute_result"
    }
   ],
   "source": [
    "Odd_num(26)"
   ]
  },
  {
   "cell_type": "markdown",
   "id": "9c0b11ec",
   "metadata": {},
   "source": [
    "# 2."
   ]
  },
  {
   "cell_type": "markdown",
   "id": "aeac6515",
   "metadata": {},
   "source": [
    "*args is used when number of single input taken by the fuction is not given."
   ]
  },
  {
   "cell_type": "code",
   "execution_count": 21,
   "id": "a43fcdf5",
   "metadata": {},
   "outputs": [],
   "source": [
    "\n",
    "def add(*args):\n",
    "    sum=0\n",
    "    for i in args:\n",
    "        if type(i)==int:\n",
    "            sum=sum +i\n",
    "    return sum\n",
    "    \n",
    "    "
   ]
  },
  {
   "cell_type": "code",
   "execution_count": 22,
   "id": "941a0858",
   "metadata": {},
   "outputs": [
    {
     "data": {
      "text/plain": [
       "104"
      ]
     },
     "execution_count": 22,
     "metadata": {},
     "output_type": "execute_result"
    }
   ],
   "source": [
    "add(2,4,8,[3,4,76,8,9],\"hjdbnc\",90,\"nnd \",\"78\")"
   ]
  },
  {
   "cell_type": "markdown",
   "id": "895aaa58",
   "metadata": {},
   "source": [
    "**kwargs is used when number of key value pair of input taken by the function is not given.\n",
    "def "
   ]
  },
  {
   "cell_type": "code",
   "execution_count": 30,
   "id": "e71efeda",
   "metadata": {},
   "outputs": [],
   "source": [
    "def fun(**kwargs):\n",
    "    return kwargs"
   ]
  },
  {
   "cell_type": "code",
   "execution_count": 35,
   "id": "3169d8e7",
   "metadata": {},
   "outputs": [
    {
     "data": {
      "text/plain": [
       "<function __main__.fun(**kwarg)>"
      ]
     },
     "execution_count": 35,
     "metadata": {},
     "output_type": "execute_result"
    }
   ],
   "source": [
    "fun(a=[7,9,0,4],b=\"biswajit\",c=45,d=77)"
   ]
  },
  {
   "cell_type": "code",
   "execution_count": 36,
   "id": "7a4fefb8",
   "metadata": {},
   "outputs": [
    {
     "name": "stdout",
     "output_type": "stream",
     "text": [
      "<function fun at 0x000001F8DC1090D0>\n"
     ]
    }
   ],
   "source": [
    "print(fun)"
   ]
  },
  {
   "cell_type": "code",
   "execution_count": 50,
   "id": "62b03b6e",
   "metadata": {},
   "outputs": [],
   "source": [
    "def intro(**kwargs):\n",
    "    print(\"\\ndatatype of argument=\",type(kwargs))\n",
    "    for a, b in kwargs.items():\n",
    "        print(\"{} is {}\".format(a,b))\n"
   ]
  },
  {
   "cell_type": "code",
   "execution_count": 51,
   "id": "2f74fead",
   "metadata": {},
   "outputs": [
    {
     "name": "stdout",
     "output_type": "stream",
     "text": [
      "\n",
      "datatype of argument= <class 'dict'>\n",
      "Firstname is Biswajit\n",
      "Lastname is Jena\n",
      "Age is 20\n",
      "Phone is 7439372904\n",
      "\n",
      "datatype of argument= <class 'dict'>\n",
      "Firstname is Bijay kumar\n",
      "Lastname is Jena\n",
      "Email is jbiswajitlife@gmail.com\n",
      "Country is India\n",
      "Age is 45\n",
      "Phone is 7439372904\n"
     ]
    }
   ],
   "source": [
    "intro(Firstname=\"Biswajit\", Lastname=\"Jena\", Age=20, Phone=7439372904)\n",
    "intro(Firstname=\"Bijay kumar\", Lastname=\"Jena\", Email=\"jbiswajitlife@gmail.com\", Country=\"India\", Age=45, Phone=7439372904)"
   ]
  },
  {
   "cell_type": "markdown",
   "id": "94195dd3",
   "metadata": {},
   "source": [
    "# 3."
   ]
  },
  {
   "cell_type": "markdown",
   "id": "7910c74c",
   "metadata": {},
   "source": [
    "the function which perform number of iteration on a iterable object is known as iterator."
   ]
  },
  {
   "cell_type": "markdown",
   "id": "d3130e53",
   "metadata": {},
   "source": [
    "iter() method is used for the initialization of iterator.next() method is used for iterartion on a iterable object."
   ]
  },
  {
   "cell_type": "code",
   "execution_count": 66,
   "id": "8cd579d5",
   "metadata": {},
   "outputs": [
    {
     "name": "stdout",
     "output_type": "stream",
     "text": [
      "2\n",
      "4\n",
      "6\n",
      "8\n",
      "10\n"
     ]
    }
   ],
   "source": [
    "s=iter([2,4,6,8,10,12,14,16,18,20])\n",
    "i=0\n",
    "while i<5:\n",
    "    print(next(s))\n",
    "    i=i+1\n"
   ]
  },
  {
   "cell_type": "markdown",
   "id": "e52d6534",
   "metadata": {},
   "source": [
    "# 4."
   ]
  },
  {
   "cell_type": "markdown",
   "id": "49bcb7a0",
   "metadata": {},
   "source": [
    "in generator function single code is executed multiple times without storing larg data in memory."
   ]
  },
  {
   "cell_type": "markdown",
   "id": "8fa99c1c",
   "metadata": {},
   "source": [
    "to create a generator in the generator function we use yield keyword."
   ]
  },
  {
   "cell_type": "code",
   "execution_count": 92,
   "id": "a014dff3",
   "metadata": {},
   "outputs": [],
   "source": [
    "def sqr(n):\n",
    "    for i in range(n):\n",
    "        yield i*i"
   ]
  },
  {
   "cell_type": "code",
   "execution_count": 94,
   "id": "b23ba0c7",
   "metadata": {},
   "outputs": [
    {
     "name": "stdout",
     "output_type": "stream",
     "text": [
      "0\n",
      "1\n",
      "4\n",
      "9\n",
      "16\n",
      "25\n",
      "36\n",
      "49\n",
      "64\n",
      "81\n"
     ]
    }
   ],
   "source": [
    "for i in sqr(10):\n",
    "    print (i)"
   ]
  },
  {
   "cell_type": "markdown",
   "id": "785545ee",
   "metadata": {},
   "source": [
    "# 5."
   ]
  },
  {
   "cell_type": "code",
   "execution_count": 4,
   "id": "808012ec",
   "metadata": {},
   "outputs": [],
   "source": [
    "def prime_num():\n",
    "    for number in range (0, 1001):  \n",
    "        if number > 1:  \n",
    "            for i in range (2, number):  \n",
    "                if (number % i) == 0:  \n",
    "                    break  \n",
    "            else:  \n",
    "                yield number\n"
   ]
  },
  {
   "cell_type": "code",
   "execution_count": 8,
   "id": "b1933332",
   "metadata": {},
   "outputs": [
    {
     "name": "stdout",
     "output_type": "stream",
     "text": [
      "2\n",
      "3\n",
      "5\n",
      "7\n",
      "11\n",
      "13\n",
      "17\n",
      "19\n",
      "23\n",
      "29\n",
      "31\n",
      "37\n",
      "41\n",
      "43\n",
      "47\n",
      "53\n",
      "59\n",
      "61\n",
      "67\n",
      "71\n"
     ]
    }
   ],
   "source": [
    "j=1\n",
    "for i in prime_num():\n",
    "    j=j+1\n",
    "    print(i)\n",
    "    if j>20:\n",
    "        break"
   ]
  },
  {
   "cell_type": "markdown",
   "id": "51eab9b3",
   "metadata": {},
   "source": [
    "# 6."
   ]
  },
  {
   "cell_type": "code",
   "execution_count": 122,
   "id": "055ae16d",
   "metadata": {},
   "outputs": [],
   "source": [
    "def test():\n",
    "    a,b=0,1\n",
    "    while True:\n",
    "        yield a\n",
    "        a,b=b,a+b"
   ]
  },
  {
   "cell_type": "code",
   "execution_count": 123,
   "id": "2c678c6a",
   "metadata": {},
   "outputs": [],
   "source": [
    "x=test()"
   ]
  },
  {
   "cell_type": "code",
   "execution_count": 124,
   "id": "1965fbc0",
   "metadata": {},
   "outputs": [
    {
     "name": "stdout",
     "output_type": "stream",
     "text": [
      "0\n",
      "1\n",
      "1\n",
      "2\n",
      "3\n",
      "5\n",
      "8\n",
      "13\n",
      "21\n",
      "34\n"
     ]
    }
   ],
   "source": [
    "for i in range(10):\n",
    "    print(next(x))"
   ]
  },
  {
   "cell_type": "markdown",
   "id": "1606c007",
   "metadata": {},
   "source": [
    "# 7."
   ]
  },
  {
   "cell_type": "code",
   "execution_count": 143,
   "id": "9e5533fd",
   "metadata": {},
   "outputs": [
    {
     "data": {
      "text/plain": [
       "['p', 'w', 's', 'k', 'i', 'l', 'l', 's']"
      ]
     },
     "execution_count": 143,
     "metadata": {},
     "output_type": "execute_result"
    }
   ],
   "source": [
    "s=\"pwskills\"\n",
    "l=[i for i in s]\n",
    "l"
   ]
  },
  {
   "cell_type": "markdown",
   "id": "78da8a0d",
   "metadata": {},
   "source": [
    "# 8."
   ]
  },
  {
   "cell_type": "code",
   "execution_count": 163,
   "id": "4972b02e",
   "metadata": {},
   "outputs": [
    {
     "name": "stdout",
     "output_type": "stream",
     "text": [
      "Enter a number:12233221\n",
      "palindrome\n"
     ]
    }
   ],
   "source": [
    "num=int(input(\"Enter a number:\"))\n",
    "temp=num\n",
    "rev=0\n",
    "while num>0:\n",
    "    dig=num%10\n",
    "    rev=int((rev*10)+dig)\n",
    "    num=int(num/10)\n",
    "if(temp==rev):\n",
    "    print(\"palindrome\")\n",
    "else:\n",
    "    print(\"Not palindrome\")"
   ]
  },
  {
   "cell_type": "markdown",
   "id": "6f169f17",
   "metadata": {},
   "source": [
    "# 9.\n"
   ]
  },
  {
   "cell_type": "code",
   "execution_count": 3,
   "id": "cdc4ebaa",
   "metadata": {},
   "outputs": [
    {
     "name": "stdout",
     "output_type": "stream",
     "text": [
      "[1, 3, 5, 7, 9, 11, 13, 15, 17, 19, 21, 23, 25, 27, 29, 31, 33, 35, 37, 39, 41, 43, 45, 47, 49, 51, 53, 55, 57, 59, 61, 63, 65, 67, 69, 71, 73, 75, 77, 79, 81, 83, 85, 87, 89, 91, 93, 95, 97, 99]\n"
     ]
    }
   ],
   "source": [
    "\n",
    "l1=[j for j in ([i for i in range(1,101)]) if j%2==1]\n",
    "print(l1)"
   ]
  },
  {
   "cell_type": "code",
   "execution_count": null,
   "id": "bc028053",
   "metadata": {},
   "outputs": [],
   "source": []
  }
 ],
 "metadata": {
  "kernelspec": {
   "display_name": "Python 3 (ipykernel)",
   "language": "python",
   "name": "python3"
  },
  "language_info": {
   "codemirror_mode": {
    "name": "ipython",
    "version": 3
   },
   "file_extension": ".py",
   "mimetype": "text/x-python",
   "name": "python",
   "nbconvert_exporter": "python",
   "pygments_lexer": "ipython3",
   "version": "3.9.13"
  }
 },
 "nbformat": 4,
 "nbformat_minor": 5
}
