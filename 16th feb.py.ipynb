{
 "cells": [
  {
   "cell_type": "markdown",
   "id": "62f45ce4",
   "metadata": {},
   "source": [
    "# 1."
   ]
  },
  {
   "cell_type": "markdown",
   "id": "eeb73098",
   "metadata": {},
   "source": [
    "database is the collection of data structured data which is stored electronically in acomputer system.database is maneged by a database manegment system(DBMS)"
   ]
  },
  {
   "cell_type": "markdown",
   "id": "f23d12d1",
   "metadata": {},
   "source": [
    "SQL stands for stuctured query language these are called as relational databse\n"
   ]
  },
  {
   "cell_type": "markdown",
   "id": "daf29409",
   "metadata": {},
   "source": [
    "NO-SQL standas for not only structured query language this is a non-relational database"
   ]
  },
  {
   "cell_type": "markdown",
   "id": "e5ed53e6",
   "metadata": {},
   "source": [
    "SQL has fixed schema"
   ]
  },
  {
   "cell_type": "markdown",
   "id": "519bf12b",
   "metadata": {},
   "source": [
    "NO-SQL has hynamic schema"
   ]
  },
  {
   "cell_type": "markdown",
   "id": "a4c5d05d",
   "metadata": {},
   "source": [
    "SQL is horizontally scalable"
   ]
  },
  {
   "cell_type": "markdown",
   "id": "86b0c201",
   "metadata": {},
   "source": [
    "NO-SQL is vertically scalable"
   ]
  },
  {
   "cell_type": "markdown",
   "id": "df22993a",
   "metadata": {},
   "source": [
    "SQL is best for complex querys"
   ]
  },
  {
   "cell_type": "markdown",
   "id": "3a30cb98",
   "metadata": {},
   "source": [
    "NO-SQL is not best for complex querys"
   ]
  },
  {
   "cell_type": "markdown",
   "id": "33369c00",
   "metadata": {},
   "source": [
    "SQL=[MYSQL,MSSQL,DB2]"
   ]
  },
  {
   "cell_type": "markdown",
   "id": "2c7243b0",
   "metadata": {},
   "source": [
    "NO-SQL=[mangoDB,cassendra]"
   ]
  },
  {
   "cell_type": "markdown",
   "id": "d2dbb336",
   "metadata": {},
   "source": [
    "# 2."
   ]
  },
  {
   "cell_type": "markdown",
   "id": "5dc04188",
   "metadata": {},
   "source": [
    "DDL stands for data defination language.it is used to do data manipulation in the database like create ,delate and modefy the database"
   ]
  },
  {
   "cell_type": "markdown",
   "id": "553471eb",
   "metadata": {},
   "source": [
    "CREATE- this command is used to create database and table\n",
    "\n",
    "DROP- this command is used to remove database and table\n",
    "\n",
    "ALTER- this command is used to modify the data base it also contains lots of sub commands\n",
    "\n",
    "TRUNCATE-this command is used to remove whole datafrom database and table with completely removing the the database and table. it does not used with the whrere clause like DELETE"
   ]
  },
  {
   "cell_type": "markdown",
   "id": "008b8423",
   "metadata": {},
   "source": [
    "# 3."
   ]
  },
  {
   "cell_type": "markdown",
   "id": "f07f0f42",
   "metadata": {},
   "source": [
    "DML standas for data manipulation language"
   ]
  },
  {
   "cell_type": "markdown",
   "id": "61097f79",
   "metadata": {},
   "source": [
    "INSERT- this command is used to enter data in the databse.\n",
    "\n",
    "UPDATE- this command is used to modify allready written or assigned valuse and datatypes\n",
    "\n",
    "DELETE- this command is used to delete the single or multiple values from the table this is used with WHERE clause to delete some specific data\n",
    "\n"
   ]
  },
  {
   "cell_type": "markdown",
   "id": "bb0f9b9c",
   "metadata": {},
   "source": [
    "# 4."
   ]
  },
  {
   "cell_type": "markdown",
   "id": "20083f56",
   "metadata": {},
   "source": [
    "DQL stands for data query language "
   ]
  },
  {
   "cell_type": "markdown",
   "id": "8b2d7b42",
   "metadata": {},
   "source": [
    "SELECT- this command is used to extract data from database.this command uses diffrent type of clause like WHERE,IN,BETWEEN to extract specific data"
   ]
  },
  {
   "cell_type": "markdown",
   "id": "314243e6",
   "metadata": {},
   "source": [
    "# 5."
   ]
  },
  {
   "cell_type": "markdown",
   "id": "9c2b7a3f",
   "metadata": {},
   "source": [
    "Primery key:"
   ]
  },
  {
   "cell_type": "markdown",
   "id": "50682a09",
   "metadata": {},
   "source": [
    "A primary key generally focuses on the uniqueness of the table\n",
    "\n",
    "Table allows only one primary key.\n",
    "\n",
    "The primary key doesn’t allow null values\n",
    "\n",
    "It can identify the record uniquely in the database table.\n",
    "\n",
    "In the primary key, the value cannot be removed from the parent table."
   ]
  },
  {
   "cell_type": "markdown",
   "id": "6869f94d",
   "metadata": {},
   "source": [
    "Foreign key:"
   ]
  },
  {
   "cell_type": "markdown",
   "id": "ce292c49",
   "metadata": {},
   "source": [
    "A foreign key is generally used to build a relationship between the two tables.\n",
    "\n",
    "Tables can allow more than one foreign key.\n",
    "\n",
    "Foreign key accepts multiple null values.\n",
    "\n",
    "A foreign key is a field in the table that is the primary key in another table.\n",
    "\n",
    "In this, the value can be deleted from the child table."
   ]
  },
  {
   "cell_type": "markdown",
   "id": "07bd3cb1",
   "metadata": {},
   "source": [
    "# 6."
   ]
  },
  {
   "cell_type": "markdown",
   "id": "2d33d279",
   "metadata": {},
   "source": [
    "import mysql.connector\n",
    "\n",
    "mydb = mysql.connector.connect(\n",
    "    \n",
    "  host=\"localhost\",\n",
    "    \n",
    "  user=\"abc\",\n",
    "    \n",
    "  password=\"password\"\n",
    "    \n",
    ")\n",
    "\n",
    "print(mydb)\n",
    "\n",
    "mycursor = mydb.cursor()\n",
    "\n",
    "mycursor.execute(\"SHOW DATABASES\")\n",
    "\n",
    "for x in mycursor:\n",
    "    \n",
    "  print(x)"
   ]
  },
  {
   "cell_type": "markdown",
   "id": "8318989e",
   "metadata": {},
   "source": [
    "The execute () method helps us to execute the query and return records according to the query"
   ]
  },
  {
   "cell_type": "markdown",
   "id": "c3cbf981",
   "metadata": {},
   "source": [
    " allows us to iterate through our database using a cursor, which will only execute a single query"
   ]
  },
  {
   "cell_type": "markdown",
   "id": "a98f59e6",
   "metadata": {},
   "source": [
    "# 7."
   ]
  },
  {
   "cell_type": "code",
   "execution_count": null,
   "id": "2779eb6c",
   "metadata": {},
   "outputs": [],
   "source": [
    "1. FROM/JOIN: The FROM and/or JOIN clauses are executed first to determine the data of interest.\n",
    "    \n",
    "\n",
    "2. WHERE: The WHERE clause is executed to filter out records that do not meet the constraints.\n",
    "    \n",
    "\n",
    "3. GROUP BY: The GROUP BY clause is executed to group the data based on the values in one or more columns.\n",
    "    \n",
    "\n",
    "4. HAVING: The HAVING clause is executed to remove the created grouped records that don’t meet the constraints.\n",
    "    \n",
    "\n",
    "5. SELECT: The SELECT clause is executed to derive all desired columns and expressions.\n",
    "    \n",
    "\n",
    "6. ORDER BY: The ORDER BY clause is executed to sort the derived values in ascending or descending order.\n",
    "    \n",
    "\n",
    "7. LIMIT/OFFSET: Finally, the LIMIT and/or OFFSET clauses are executed to keep or skip a specified number of rows."
   ]
  }
 ],
 "metadata": {
  "kernelspec": {
   "display_name": "Python 3 (ipykernel)",
   "language": "python",
   "name": "python3"
  },
  "language_info": {
   "codemirror_mode": {
    "name": "ipython",
    "version": 3
   },
   "file_extension": ".py",
   "mimetype": "text/x-python",
   "name": "python",
   "nbconvert_exporter": "python",
   "pygments_lexer": "ipython3",
   "version": "3.9.13"
  }
 },
 "nbformat": 4,
 "nbformat_minor": 5
}
